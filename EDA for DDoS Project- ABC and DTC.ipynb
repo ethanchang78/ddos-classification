{
 "cells": [
  {
   "cell_type": "code",
   "execution_count": 1,
   "metadata": {},
   "outputs": [],
   "source": [
    "import pandas as pd"
   ]
  },
  {
   "cell_type": "code",
   "execution_count": 2,
   "metadata": {},
   "outputs": [
    {
     "name": "stderr",
     "output_type": "stream",
     "text": [
      "C:\\Users\\ecusa\\anaconda3\\lib\\site-packages\\IPython\\core\\interactiveshell.py:3063: DtypeWarning: Columns (86) have mixed types.Specify dtype option on import or set low_memory=False.\n",
      "  interactivity=interactivity, compiler=compiler, result=result)\n"
     ]
    }
   ],
   "source": [
    "df = pd.read_csv('/Users/ecusa/All.csv')"
   ]
  },
  {
   "cell_type": "code",
   "execution_count": 3,
   "metadata": {},
   "outputs": [
    {
     "data": {
      "text/html": [
       "<div>\n",
       "<style scoped>\n",
       "    .dataframe tbody tr th:only-of-type {\n",
       "        vertical-align: middle;\n",
       "    }\n",
       "\n",
       "    .dataframe tbody tr th {\n",
       "        vertical-align: top;\n",
       "    }\n",
       "\n",
       "    .dataframe thead th {\n",
       "        text-align: right;\n",
       "    }\n",
       "</style>\n",
       "<table border=\"1\" class=\"dataframe\">\n",
       "  <thead>\n",
       "    <tr style=\"text-align: right;\">\n",
       "      <th></th>\n",
       "      <th>Unnamed: 0</th>\n",
       "      <th>Unnamed: 0.1</th>\n",
       "      <th>Flow ID</th>\n",
       "      <th>Source IP</th>\n",
       "      <th>Source Port</th>\n",
       "      <th>Destination IP</th>\n",
       "      <th>Destination Port</th>\n",
       "      <th>Protocol</th>\n",
       "      <th>Timestamp</th>\n",
       "      <th>Flow Duration</th>\n",
       "      <th>...</th>\n",
       "      <th>Active Std</th>\n",
       "      <th>Active Max</th>\n",
       "      <th>Active Min</th>\n",
       "      <th>Idle Mean</th>\n",
       "      <th>Idle Std</th>\n",
       "      <th>Idle Max</th>\n",
       "      <th>Idle Min</th>\n",
       "      <th>SimillarHTTP</th>\n",
       "      <th>Inbound</th>\n",
       "      <th>Label</th>\n",
       "    </tr>\n",
       "  </thead>\n",
       "  <tbody>\n",
       "    <tr>\n",
       "      <th>0</th>\n",
       "      <td>1335342</td>\n",
       "      <td>12251</td>\n",
       "      <td>172.16.0.5-192.168.50.4-733-52659-17</td>\n",
       "      <td>172.16.0.5</td>\n",
       "      <td>733</td>\n",
       "      <td>192.168.50.4</td>\n",
       "      <td>52659</td>\n",
       "      <td>17</td>\n",
       "      <td>2018-11-03 10:26:35.400321</td>\n",
       "      <td>1</td>\n",
       "      <td>...</td>\n",
       "      <td>0.0</td>\n",
       "      <td>0.0</td>\n",
       "      <td>0.0</td>\n",
       "      <td>0.0</td>\n",
       "      <td>0.0</td>\n",
       "      <td>0.0</td>\n",
       "      <td>0.0</td>\n",
       "      <td>0</td>\n",
       "      <td>1</td>\n",
       "      <td>LDAP</td>\n",
       "    </tr>\n",
       "    <tr>\n",
       "      <th>1</th>\n",
       "      <td>893227</td>\n",
       "      <td>19401</td>\n",
       "      <td>172.16.0.5-192.168.50.4-856-5155-17</td>\n",
       "      <td>172.16.0.5</td>\n",
       "      <td>856</td>\n",
       "      <td>192.168.50.4</td>\n",
       "      <td>5155</td>\n",
       "      <td>17</td>\n",
       "      <td>2018-11-03 10:24:44.160823</td>\n",
       "      <td>1</td>\n",
       "      <td>...</td>\n",
       "      <td>0.0</td>\n",
       "      <td>0.0</td>\n",
       "      <td>0.0</td>\n",
       "      <td>0.0</td>\n",
       "      <td>0.0</td>\n",
       "      <td>0.0</td>\n",
       "      <td>0.0</td>\n",
       "      <td>0</td>\n",
       "      <td>1</td>\n",
       "      <td>LDAP</td>\n",
       "    </tr>\n",
       "    <tr>\n",
       "      <th>2</th>\n",
       "      <td>1601151</td>\n",
       "      <td>19915</td>\n",
       "      <td>172.16.0.5-192.168.50.4-543-42971-17</td>\n",
       "      <td>172.16.0.5</td>\n",
       "      <td>543</td>\n",
       "      <td>192.168.50.4</td>\n",
       "      <td>42971</td>\n",
       "      <td>17</td>\n",
       "      <td>2018-11-03 10:27:42.402790</td>\n",
       "      <td>1</td>\n",
       "      <td>...</td>\n",
       "      <td>0.0</td>\n",
       "      <td>0.0</td>\n",
       "      <td>0.0</td>\n",
       "      <td>0.0</td>\n",
       "      <td>0.0</td>\n",
       "      <td>0.0</td>\n",
       "      <td>0.0</td>\n",
       "      <td>0</td>\n",
       "      <td>1</td>\n",
       "      <td>LDAP</td>\n",
       "    </tr>\n",
       "    <tr>\n",
       "      <th>3</th>\n",
       "      <td>328645</td>\n",
       "      <td>22772</td>\n",
       "      <td>172.16.0.5-192.168.50.4-900-23336-17</td>\n",
       "      <td>172.16.0.5</td>\n",
       "      <td>900</td>\n",
       "      <td>192.168.50.4</td>\n",
       "      <td>23336</td>\n",
       "      <td>17</td>\n",
       "      <td>2018-11-03 10:22:24.805530</td>\n",
       "      <td>48</td>\n",
       "      <td>...</td>\n",
       "      <td>0.0</td>\n",
       "      <td>0.0</td>\n",
       "      <td>0.0</td>\n",
       "      <td>0.0</td>\n",
       "      <td>0.0</td>\n",
       "      <td>0.0</td>\n",
       "      <td>0.0</td>\n",
       "      <td>0</td>\n",
       "      <td>1</td>\n",
       "      <td>LDAP</td>\n",
       "    </tr>\n",
       "    <tr>\n",
       "      <th>4</th>\n",
       "      <td>1680296</td>\n",
       "      <td>9175</td>\n",
       "      <td>172.16.0.5-192.168.50.4-617-34434-17</td>\n",
       "      <td>172.16.0.5</td>\n",
       "      <td>617</td>\n",
       "      <td>192.168.50.4</td>\n",
       "      <td>34434</td>\n",
       "      <td>17</td>\n",
       "      <td>2018-11-03 10:28:01.942116</td>\n",
       "      <td>1</td>\n",
       "      <td>...</td>\n",
       "      <td>0.0</td>\n",
       "      <td>0.0</td>\n",
       "      <td>0.0</td>\n",
       "      <td>0.0</td>\n",
       "      <td>0.0</td>\n",
       "      <td>0.0</td>\n",
       "      <td>0.0</td>\n",
       "      <td>0</td>\n",
       "      <td>1</td>\n",
       "      <td>LDAP</td>\n",
       "    </tr>\n",
       "    <tr>\n",
       "      <th>...</th>\n",
       "      <td>...</td>\n",
       "      <td>...</td>\n",
       "      <td>...</td>\n",
       "      <td>...</td>\n",
       "      <td>...</td>\n",
       "      <td>...</td>\n",
       "      <td>...</td>\n",
       "      <td>...</td>\n",
       "      <td>...</td>\n",
       "      <td>...</td>\n",
       "      <td>...</td>\n",
       "      <td>...</td>\n",
       "      <td>...</td>\n",
       "      <td>...</td>\n",
       "      <td>...</td>\n",
       "      <td>...</td>\n",
       "      <td>...</td>\n",
       "      <td>...</td>\n",
       "      <td>...</td>\n",
       "      <td>...</td>\n",
       "      <td>...</td>\n",
       "    </tr>\n",
       "    <tr>\n",
       "      <th>1018221</th>\n",
       "      <td>256219</td>\n",
       "      <td>304825</td>\n",
       "      <td>172.16.0.5-192.168.50.4-43758-34342-6</td>\n",
       "      <td>172.16.0.5</td>\n",
       "      <td>43758</td>\n",
       "      <td>192.168.50.4</td>\n",
       "      <td>34342</td>\n",
       "      <td>6</td>\n",
       "      <td>2018-11-03 11:29:28.919890</td>\n",
       "      <td>1</td>\n",
       "      <td>...</td>\n",
       "      <td>0.0</td>\n",
       "      <td>0.0</td>\n",
       "      <td>0.0</td>\n",
       "      <td>0.0</td>\n",
       "      <td>0.0</td>\n",
       "      <td>0.0</td>\n",
       "      <td>0.0</td>\n",
       "      <td>0</td>\n",
       "      <td>1</td>\n",
       "      <td>Syn</td>\n",
       "    </tr>\n",
       "    <tr>\n",
       "      <th>1018222</th>\n",
       "      <td>70727</td>\n",
       "      <td>80735</td>\n",
       "      <td>172.16.0.5-192.168.50.4-40010-35873-17</td>\n",
       "      <td>172.16.0.5</td>\n",
       "      <td>40010</td>\n",
       "      <td>192.168.50.4</td>\n",
       "      <td>35873</td>\n",
       "      <td>17</td>\n",
       "      <td>2018-11-03 11:01:56.100418</td>\n",
       "      <td>106556</td>\n",
       "      <td>...</td>\n",
       "      <td>0.0</td>\n",
       "      <td>0.0</td>\n",
       "      <td>0.0</td>\n",
       "      <td>0.0</td>\n",
       "      <td>0.0</td>\n",
       "      <td>0.0</td>\n",
       "      <td>0.0</td>\n",
       "      <td>0</td>\n",
       "      <td>1</td>\n",
       "      <td>UDP</td>\n",
       "    </tr>\n",
       "    <tr>\n",
       "      <th>1018223</th>\n",
       "      <td>157226</td>\n",
       "      <td>586733</td>\n",
       "      <td>172.16.0.5-192.168.50.4-39985-39210-6</td>\n",
       "      <td>172.16.0.5</td>\n",
       "      <td>39985</td>\n",
       "      <td>192.168.50.4</td>\n",
       "      <td>39210</td>\n",
       "      <td>6</td>\n",
       "      <td>2018-11-03 11:29:20.677154</td>\n",
       "      <td>7000135</td>\n",
       "      <td>...</td>\n",
       "      <td>0.0</td>\n",
       "      <td>1.0</td>\n",
       "      <td>1.0</td>\n",
       "      <td>7000134.0</td>\n",
       "      <td>0.0</td>\n",
       "      <td>7000134.0</td>\n",
       "      <td>7000134.0</td>\n",
       "      <td>0</td>\n",
       "      <td>1</td>\n",
       "      <td>Syn</td>\n",
       "    </tr>\n",
       "    <tr>\n",
       "      <th>1018224</th>\n",
       "      <td>657214</td>\n",
       "      <td>237360</td>\n",
       "      <td>172.16.0.5-192.168.50.4-36882-32220-6</td>\n",
       "      <td>172.16.0.5</td>\n",
       "      <td>36882</td>\n",
       "      <td>192.168.50.4</td>\n",
       "      <td>32220</td>\n",
       "      <td>6</td>\n",
       "      <td>2018-11-03 11:30:18.026368</td>\n",
       "      <td>52</td>\n",
       "      <td>...</td>\n",
       "      <td>0.0</td>\n",
       "      <td>0.0</td>\n",
       "      <td>0.0</td>\n",
       "      <td>0.0</td>\n",
       "      <td>0.0</td>\n",
       "      <td>0.0</td>\n",
       "      <td>0.0</td>\n",
       "      <td>0</td>\n",
       "      <td>1</td>\n",
       "      <td>Syn</td>\n",
       "    </tr>\n",
       "    <tr>\n",
       "      <th>1018225</th>\n",
       "      <td>420097</td>\n",
       "      <td>348033</td>\n",
       "      <td>172.16.0.5-192.168.50.4-61176-64459-6</td>\n",
       "      <td>172.16.0.5</td>\n",
       "      <td>61176</td>\n",
       "      <td>192.168.50.4</td>\n",
       "      <td>64459</td>\n",
       "      <td>6</td>\n",
       "      <td>2018-11-03 11:29:50.795558</td>\n",
       "      <td>1</td>\n",
       "      <td>...</td>\n",
       "      <td>0.0</td>\n",
       "      <td>0.0</td>\n",
       "      <td>0.0</td>\n",
       "      <td>0.0</td>\n",
       "      <td>0.0</td>\n",
       "      <td>0.0</td>\n",
       "      <td>0.0</td>\n",
       "      <td>0</td>\n",
       "      <td>1</td>\n",
       "      <td>Syn</td>\n",
       "    </tr>\n",
       "  </tbody>\n",
       "</table>\n",
       "<p>1018226 rows × 89 columns</p>\n",
       "</div>"
      ],
      "text/plain": [
       "         Unnamed: 0  Unnamed: 0.1                                 Flow ID  \\\n",
       "0           1335342         12251    172.16.0.5-192.168.50.4-733-52659-17   \n",
       "1            893227         19401     172.16.0.5-192.168.50.4-856-5155-17   \n",
       "2           1601151         19915    172.16.0.5-192.168.50.4-543-42971-17   \n",
       "3            328645         22772    172.16.0.5-192.168.50.4-900-23336-17   \n",
       "4           1680296          9175    172.16.0.5-192.168.50.4-617-34434-17   \n",
       "...             ...           ...                                     ...   \n",
       "1018221      256219        304825   172.16.0.5-192.168.50.4-43758-34342-6   \n",
       "1018222       70727         80735  172.16.0.5-192.168.50.4-40010-35873-17   \n",
       "1018223      157226        586733   172.16.0.5-192.168.50.4-39985-39210-6   \n",
       "1018224      657214        237360   172.16.0.5-192.168.50.4-36882-32220-6   \n",
       "1018225      420097        348033   172.16.0.5-192.168.50.4-61176-64459-6   \n",
       "\n",
       "          Source IP   Source Port  Destination IP   Destination Port  \\\n",
       "0        172.16.0.5           733    192.168.50.4              52659   \n",
       "1        172.16.0.5           856    192.168.50.4               5155   \n",
       "2        172.16.0.5           543    192.168.50.4              42971   \n",
       "3        172.16.0.5           900    192.168.50.4              23336   \n",
       "4        172.16.0.5           617    192.168.50.4              34434   \n",
       "...             ...           ...             ...                ...   \n",
       "1018221  172.16.0.5         43758    192.168.50.4              34342   \n",
       "1018222  172.16.0.5         40010    192.168.50.4              35873   \n",
       "1018223  172.16.0.5         39985    192.168.50.4              39210   \n",
       "1018224  172.16.0.5         36882    192.168.50.4              32220   \n",
       "1018225  172.16.0.5         61176    192.168.50.4              64459   \n",
       "\n",
       "          Protocol                   Timestamp   Flow Duration  ...  \\\n",
       "0               17  2018-11-03 10:26:35.400321               1  ...   \n",
       "1               17  2018-11-03 10:24:44.160823               1  ...   \n",
       "2               17  2018-11-03 10:27:42.402790               1  ...   \n",
       "3               17  2018-11-03 10:22:24.805530              48  ...   \n",
       "4               17  2018-11-03 10:28:01.942116               1  ...   \n",
       "...            ...                         ...             ...  ...   \n",
       "1018221          6  2018-11-03 11:29:28.919890               1  ...   \n",
       "1018222         17  2018-11-03 11:01:56.100418          106556  ...   \n",
       "1018223          6  2018-11-03 11:29:20.677154         7000135  ...   \n",
       "1018224          6  2018-11-03 11:30:18.026368              52  ...   \n",
       "1018225          6  2018-11-03 11:29:50.795558               1  ...   \n",
       "\n",
       "          Active Std   Active Max   Active Min  Idle Mean   Idle Std  \\\n",
       "0                0.0          0.0          0.0        0.0        0.0   \n",
       "1                0.0          0.0          0.0        0.0        0.0   \n",
       "2                0.0          0.0          0.0        0.0        0.0   \n",
       "3                0.0          0.0          0.0        0.0        0.0   \n",
       "4                0.0          0.0          0.0        0.0        0.0   \n",
       "...              ...          ...          ...        ...        ...   \n",
       "1018221          0.0          0.0          0.0        0.0        0.0   \n",
       "1018222          0.0          0.0          0.0        0.0        0.0   \n",
       "1018223          0.0          1.0          1.0  7000134.0        0.0   \n",
       "1018224          0.0          0.0          0.0        0.0        0.0   \n",
       "1018225          0.0          0.0          0.0        0.0        0.0   \n",
       "\n",
       "          Idle Max   Idle Min  SimillarHTTP   Inbound   Label  \n",
       "0              0.0        0.0             0         1    LDAP  \n",
       "1              0.0        0.0             0         1    LDAP  \n",
       "2              0.0        0.0             0         1    LDAP  \n",
       "3              0.0        0.0             0         1    LDAP  \n",
       "4              0.0        0.0             0         1    LDAP  \n",
       "...            ...        ...           ...       ...     ...  \n",
       "1018221        0.0        0.0             0         1     Syn  \n",
       "1018222        0.0        0.0             0         1     UDP  \n",
       "1018223  7000134.0  7000134.0             0         1     Syn  \n",
       "1018224        0.0        0.0             0         1     Syn  \n",
       "1018225        0.0        0.0             0         1     Syn  \n",
       "\n",
       "[1018226 rows x 89 columns]"
      ]
     },
     "execution_count": 3,
     "metadata": {},
     "output_type": "execute_result"
    }
   ],
   "source": [
    "df"
   ]
  },
  {
   "cell_type": "code",
   "execution_count": 4,
   "metadata": {},
   "outputs": [],
   "source": [
    "from sklearn.preprocessing import LabelEncoder, OneHotEncoder"
   ]
  },
  {
   "cell_type": "code",
   "execution_count": 5,
   "metadata": {},
   "outputs": [],
   "source": [
    "df['DataType'] = 0"
   ]
  },
  {
   "cell_type": "code",
   "execution_count": 6,
   "metadata": {},
   "outputs": [
    {
     "name": "stderr",
     "output_type": "stream",
     "text": [
      "C:\\Users\\ecusa\\anaconda3\\lib\\site-packages\\pandas\\core\\indexing.py:670: SettingWithCopyWarning: \n",
      "A value is trying to be set on a copy of a slice from a DataFrame\n",
      "\n",
      "See the caveats in the documentation: https://pandas.pydata.org/pandas-docs/stable/user_guide/indexing.html#returning-a-view-versus-a-copy\n",
      "  self._setitem_with_indexer(indexer, value)\n"
     ]
    }
   ],
   "source": [
    "df['DataType'].loc[df[' Label'] == 'BENIGN'] = 1"
   ]
  },
  {
   "cell_type": "code",
   "execution_count": 7,
   "metadata": {},
   "outputs": [
    {
     "name": "stdout",
     "output_type": "stream",
     "text": [
      "0          0\n",
      "1          0\n",
      "2          0\n",
      "3          0\n",
      "4          0\n",
      "          ..\n",
      "1018221    0\n",
      "1018222    0\n",
      "1018223    0\n",
      "1018224    0\n",
      "1018225    0\n",
      "Name: DataType, Length: 1018226, dtype: int64\n"
     ]
    }
   ],
   "source": [
    "print(df['DataType'])"
   ]
  },
  {
   "cell_type": "code",
   "execution_count": 8,
   "metadata": {},
   "outputs": [
    {
     "data": {
      "text/plain": [
       "count    1.018226e+06\n",
       "mean     2.752827e-03\n",
       "std      5.239515e-02\n",
       "min      0.000000e+00\n",
       "25%      0.000000e+00\n",
       "50%      0.000000e+00\n",
       "75%      0.000000e+00\n",
       "max      1.000000e+00\n",
       "Name: DataType, dtype: float64"
      ]
     },
     "execution_count": 8,
     "metadata": {},
     "output_type": "execute_result"
    }
   ],
   "source": [
    "df['DataType'].describe()"
   ]
  },
  {
   "cell_type": "code",
   "execution_count": 9,
   "metadata": {},
   "outputs": [],
   "source": [
    "import matplotlib.pyplot as plt"
   ]
  },
  {
   "cell_type": "code",
   "execution_count": 10,
   "metadata": {},
   "outputs": [],
   "source": [
    "from sklearn.ensemble import RandomForestClassifier as RFC\n",
    "rfc = RFC()"
   ]
  },
  {
   "cell_type": "code",
   "execution_count": 11,
   "metadata": {},
   "outputs": [],
   "source": [
    "from sklearn.preprocessing import LabelEncoder, OneHotEncoder\n",
    "numerics = ['int16', 'int32', 'int64', 'float16', 'float32', 'float64']\n",
    "\n",
    "label_encoder = LabelEncoder()\n",
    "\n",
    "\n",
    "df = df.select_dtypes(include=numerics)"
   ]
  },
  {
   "cell_type": "code",
   "execution_count": 12,
   "metadata": {},
   "outputs": [
    {
     "data": {
      "text/plain": [
       "Index(['Unnamed: 0', 'Unnamed: 0.1', ' Source Port', ' Destination Port',\n",
       "       ' Protocol', ' Flow Duration', ' Total Fwd Packets',\n",
       "       ' Total Backward Packets', 'Total Length of Fwd Packets',\n",
       "       ' Total Length of Bwd Packets', ' Fwd Packet Length Max',\n",
       "       ' Fwd Packet Length Min', ' Fwd Packet Length Mean',\n",
       "       ' Fwd Packet Length Std', 'Bwd Packet Length Max',\n",
       "       ' Bwd Packet Length Min', ' Bwd Packet Length Mean',\n",
       "       ' Bwd Packet Length Std', 'Flow Bytes/s', ' Flow Packets/s',\n",
       "       ' Flow IAT Mean', ' Flow IAT Std', ' Flow IAT Max', ' Flow IAT Min',\n",
       "       'Fwd IAT Total', ' Fwd IAT Mean', ' Fwd IAT Std', ' Fwd IAT Max',\n",
       "       ' Fwd IAT Min', 'Bwd IAT Total', ' Bwd IAT Mean', ' Bwd IAT Std',\n",
       "       ' Bwd IAT Max', ' Bwd IAT Min', 'Fwd PSH Flags', ' Bwd PSH Flags',\n",
       "       ' Fwd URG Flags', ' Bwd URG Flags', ' Fwd Header Length',\n",
       "       ' Bwd Header Length', 'Fwd Packets/s', ' Bwd Packets/s',\n",
       "       ' Min Packet Length', ' Max Packet Length', ' Packet Length Mean',\n",
       "       ' Packet Length Std', ' Packet Length Variance', 'FIN Flag Count',\n",
       "       ' SYN Flag Count', ' RST Flag Count', ' PSH Flag Count',\n",
       "       ' ACK Flag Count', ' URG Flag Count', ' CWE Flag Count',\n",
       "       ' ECE Flag Count', ' Down/Up Ratio', ' Average Packet Size',\n",
       "       ' Avg Fwd Segment Size', ' Avg Bwd Segment Size',\n",
       "       ' Fwd Header Length.1', 'Fwd Avg Bytes/Bulk', ' Fwd Avg Packets/Bulk',\n",
       "       ' Fwd Avg Bulk Rate', ' Bwd Avg Bytes/Bulk', ' Bwd Avg Packets/Bulk',\n",
       "       'Bwd Avg Bulk Rate', 'Subflow Fwd Packets', ' Subflow Fwd Bytes',\n",
       "       ' Subflow Bwd Packets', ' Subflow Bwd Bytes', 'Init_Win_bytes_forward',\n",
       "       ' Init_Win_bytes_backward', ' act_data_pkt_fwd',\n",
       "       ' min_seg_size_forward', 'Active Mean', ' Active Std', ' Active Max',\n",
       "       ' Active Min', 'Idle Mean', ' Idle Std', ' Idle Max', ' Idle Min',\n",
       "       ' Inbound', 'DataType'],\n",
       "      dtype='object')"
      ]
     },
     "execution_count": 12,
     "metadata": {},
     "output_type": "execute_result"
    }
   ],
   "source": [
    "df.columns"
   ]
  },
  {
   "cell_type": "code",
   "execution_count": 13,
   "metadata": {},
   "outputs": [
    {
     "data": {
      "text/plain": [
       "Index(['Unnamed: 0', 'Unnamed: 0.1', ' Source Port', ' Destination Port',\n",
       "       ' Protocol', ' Flow Duration', ' Total Fwd Packets',\n",
       "       ' Total Backward Packets', 'Total Length of Fwd Packets',\n",
       "       ' Total Length of Bwd Packets', ' Fwd Packet Length Max',\n",
       "       ' Fwd Packet Length Min', ' Fwd Packet Length Mean',\n",
       "       ' Fwd Packet Length Std', 'Bwd Packet Length Max',\n",
       "       ' Bwd Packet Length Min', ' Bwd Packet Length Mean',\n",
       "       ' Bwd Packet Length Std', 'Flow Bytes/s', ' Flow Packets/s',\n",
       "       ' Flow IAT Mean', ' Flow IAT Std', ' Flow IAT Max', ' Flow IAT Min',\n",
       "       'Fwd IAT Total', ' Fwd IAT Mean', ' Fwd IAT Std', ' Fwd IAT Max',\n",
       "       ' Fwd IAT Min', 'Bwd IAT Total', ' Bwd IAT Mean', ' Bwd IAT Std',\n",
       "       ' Bwd IAT Max', ' Bwd IAT Min', 'Fwd PSH Flags', ' Bwd PSH Flags',\n",
       "       ' Fwd URG Flags', ' Bwd URG Flags', ' Fwd Header Length',\n",
       "       ' Bwd Header Length', 'Fwd Packets/s', ' Bwd Packets/s',\n",
       "       ' Min Packet Length', ' Max Packet Length', ' Packet Length Mean',\n",
       "       ' Packet Length Std', ' Packet Length Variance', 'FIN Flag Count',\n",
       "       ' SYN Flag Count', ' RST Flag Count', ' PSH Flag Count',\n",
       "       ' ACK Flag Count', ' URG Flag Count', ' CWE Flag Count',\n",
       "       ' ECE Flag Count', ' Down/Up Ratio', ' Average Packet Size',\n",
       "       ' Avg Fwd Segment Size', ' Avg Bwd Segment Size',\n",
       "       ' Fwd Header Length.1', 'Fwd Avg Bytes/Bulk', ' Fwd Avg Packets/Bulk',\n",
       "       ' Fwd Avg Bulk Rate', ' Bwd Avg Bytes/Bulk', ' Bwd Avg Packets/Bulk',\n",
       "       'Bwd Avg Bulk Rate', 'Subflow Fwd Packets', ' Subflow Fwd Bytes',\n",
       "       ' Subflow Bwd Packets', ' Subflow Bwd Bytes', 'Init_Win_bytes_forward',\n",
       "       ' Init_Win_bytes_backward', ' act_data_pkt_fwd',\n",
       "       ' min_seg_size_forward', 'Active Mean', ' Active Std', ' Active Max',\n",
       "       ' Active Min', 'Idle Mean', ' Idle Std', ' Idle Max', ' Idle Min',\n",
       "       ' Inbound'],\n",
       "      dtype='object')"
      ]
     },
     "execution_count": 13,
     "metadata": {},
     "output_type": "execute_result"
    }
   ],
   "source": [
    "df_X = df.loc[:,:' Inbound']\n",
    "df_X = df_X.columns\n",
    "df_X"
   ]
  },
  {
   "cell_type": "code",
   "execution_count": 14,
   "metadata": {},
   "outputs": [
    {
     "name": "stderr",
     "output_type": "stream",
     "text": [
      "C:\\Users\\ecusa\\anaconda3\\lib\\site-packages\\pandas\\core\\frame.py:4172: SettingWithCopyWarning: \n",
      "A value is trying to be set on a copy of a slice from a DataFrame\n",
      "\n",
      "See the caveats in the documentation: https://pandas.pydata.org/pandas-docs/stable/user_guide/indexing.html#returning-a-view-versus-a-copy\n",
      "  method=method,\n"
     ]
    }
   ],
   "source": [
    "from sklearn.model_selection import train_test_split\n",
    "import numpy as np\n",
    "df.replace([np.inf, -np.inf], np.nan, inplace=True)\n",
    "df = df.dropna()\n",
    "\n",
    "X = df[df_X]\n",
    "y = df['DataType']\n",
    "\n",
    "train_X, val_X, train_y, val_y = train_test_split(X, y, test_size=0.20, random_state=1)"
   ]
  },
  {
   "cell_type": "code",
   "execution_count": 15,
   "metadata": {},
   "outputs": [
    {
     "data": {
      "text/plain": [
       "count    977870.000000\n",
       "mean          0.997338\n",
       "std           0.051525\n",
       "min           0.000000\n",
       "25%           1.000000\n",
       "50%           1.000000\n",
       "75%           1.000000\n",
       "max           1.000000\n",
       "Name:  Inbound, dtype: float64"
      ]
     },
     "execution_count": 15,
     "metadata": {},
     "output_type": "execute_result"
    }
   ],
   "source": [
    "df[' Inbound'].describe()"
   ]
  },
  {
   "cell_type": "code",
   "execution_count": 16,
   "metadata": {},
   "outputs": [
    {
     "data": {
      "text/plain": [
       "<matplotlib.axes._subplots.AxesSubplot at 0x206f836a988>"
      ]
     },
     "execution_count": 16,
     "metadata": {},
     "output_type": "execute_result"
    },
    {
     "data": {
      "image/png": "[encoded data removed]",
      "text/plain": [
       "<Figure size 1296x288 with 1 Axes>"
      ]
     },
     "metadata": {
      "needs_background": "light"
     },
     "output_type": "display_data"
    }
   ],
   "source": [
    "import numpy as np\n",
    "rfc = RFC();\n",
    "\n",
    "# fit random forest classifier on the training set\n",
    "rfc.fit(train_X, train_y);\n",
    "\n",
    "# extract important features\n",
    "score_rfc = np.round(rfc.feature_importances_, 3)\n",
    "importances_rfc = pd.DataFrame({'feature':train_X.columns,'importance':score_rfc})\n",
    "importances_rfc = importances_rfc.sort_values('importance',ascending=False).set_index('feature')\n",
    "\n",
    "# plot importances\n",
    "plt.rcParams['figure.figsize'] = (18, 4)\n",
    "#importances_rfc.plot.bar();\n",
    "importances_rfc.plot.bar(title = 'Importance of Each Feature in the Random Forest Classifier')"
   ]
  },
  {
   "cell_type": "code",
   "execution_count": 17,
   "metadata": {},
   "outputs": [
    {
     "name": "stderr",
     "output_type": "stream",
     "text": [
      "C:\\Users\\ecusa\\anaconda3\\lib\\site-packages\\pandas\\core\\indexing.py:670: SettingWithCopyWarning: \n",
      "A value is trying to be set on a copy of a slice from a DataFrame\n",
      "\n",
      "See the caveats in the documentation: https://pandas.pydata.org/pandas-docs/stable/user_guide/indexing.html#returning-a-view-versus-a-copy\n",
      "  self._setitem_with_indexer(indexer, value)\n"
     ]
    }
   ],
   "source": [
    "df['DataType'].loc[df['DataType'] == 0] = 'ATTACK'\n",
    "df['DataType'].loc[df['DataType'] == 1] = 'BENIGN'"
   ]
  },
  {
   "cell_type": "code",
   "execution_count": 18,
   "metadata": {},
   "outputs": [],
   "source": [
    "from sklearn.ensemble import AdaBoostClassifier as ABC\n",
    "abc = ABC()\n",
    "from sklearn.naive_bayes import GaussianNB\n",
    "gnb = GaussianNB()\n",
    "from sklearn.tree import DecisionTreeClassifier as DTC\n",
    "dtc = DTC()\n",
    "from sklearn.neural_network import MLPClassifier as MLPC\n",
    "mlpc = MLPC()"
   ]
  },
  {
   "cell_type": "code",
   "execution_count": 19,
   "metadata": {},
   "outputs": [
    {
     "data": {
      "text/plain": [
       "<matplotlib.axes._subplots.AxesSubplot at 0x206f97b9b88>"
      ]
     },
     "execution_count": 19,
     "metadata": {},
     "output_type": "execute_result"
    },
    {
     "data": {
      "image/png": "[encoded data removed]",
      "text/plain": [
       "<Figure size 1440x288 with 1 Axes>"
      ]
     },
     "metadata": {
      "needs_background": "light"
     },
     "output_type": "display_data"
    }
   ],
   "source": [
    "# fit random forest classifier on the training set\n",
    "abc.fit(train_X, train_y);\n",
    "\n",
    "# extract important features\n",
    "score_abc = np.round(abc.feature_importances_, 3)\n",
    "importances_abc = pd.DataFrame({'feature':train_X.columns,'importance':score_abc})\n",
    "importances_abc = importances_abc.sort_values('importance',ascending=False).set_index('feature')\n",
    "\n",
    "# plot importances\n",
    "plt.rcParams['figure.figsize'] = (20, 4)\n",
    "#importances_abc.plot.bar();\n",
    "importances_abc.plot.bar(title = 'Importance of Each Feature in the Ada Boost Classifier')"
   ]
  },
  {
   "cell_type": "code",
   "execution_count": 20,
   "metadata": {},
   "outputs": [
    {
     "data": {
      "text/plain": [
       "<matplotlib.axes._subplots.AxesSubplot at 0x206f9dfb808>"
      ]
     },
     "execution_count": 20,
     "metadata": {},
     "output_type": "execute_result"
    },
    {
     "data": {
      "image/png": "[encoded data removed]",
      "text/plain": [
       "<Figure size 1440x288 with 1 Axes>"
      ]
     },
     "metadata": {
      "needs_background": "light"
     },
     "output_type": "display_data"
    }
   ],
   "source": [
    "# fit random forest classifier on the training set\n",
    "dtc.fit(train_X, train_y);\n",
    "\n",
    "# extract important features\n",
    "score_dtc = np.round(dtc.feature_importances_, 3)\n",
    "importances_dtc = pd.DataFrame({'feature':train_X.columns,'importance':score_dtc})\n",
    "importances_dtc = importances_dtc.sort_values('importance',ascending=False).set_index('feature')\n",
    "\n",
    "# plot importances\n",
    "plt.rcParams['figure.figsize'] = (20, 4)\n",
    "#importances_dtc.plot.bar();\n",
    "importances_dtc.plot.bar(title = 'Importance of Each Feature in the Decision Tree Classifier')"
   ]
  },
  {
   "cell_type": "code",
   "execution_count": 17,
   "metadata": {},
   "outputs": [],
   "source": [
    "rfc_features = [' Inbound', ' URG Flag Count', 'Bwd Packet Length Max', ' Bwd Packet Length Mean', ' Avg Bwd Segment Size', \n",
    "               ' Subflow Bwd Bytes', ' Source Port', ' Fwd Packet Length Min', ' Total Length of Bwd Packets', \n",
    "                'Init_Win_bytes_forward', ' Bwd Packet Length Min', ' Init_Win_bytes_backward', ' Subflow Fwd Bytes',\n",
    "               ' CWE Flag Count', ' Min Packet Length']"
   ]
  },
  {
   "cell_type": "code",
   "execution_count": 18,
   "metadata": {},
   "outputs": [],
   "source": [
    "X = df[rfc_features]\n",
    "y = df['DataType']\n",
    "\n",
    "train_X, val_X, train_y, val_y = train_test_split(X, y, test_size=0.20, random_state=1)"
   ]
  },
  {
   "cell_type": "code",
   "execution_count": null,
   "metadata": {},
   "outputs": [],
   "source": [
    "rfc = RFC()\n"
   ]
  },
  {
   "cell_type": "code",
   "execution_count": null,
   "metadata": {},
   "outputs": [],
   "source": [
    "from sklearn.model_selection import cross_val_score, cross_val_predict\n",
    "from sklearn import metrics"
   ]
  },
  {
   "cell_type": "code",
   "execution_count": null,
   "metadata": {},
   "outputs": [],
   "source": [
    "from sklearn.metrics import precision_recall_fscore_support"
   ]
  },
  {
   "cell_type": "code",
   "execution_count": null,
   "metadata": {},
   "outputs": [],
   "source": [
    "rfc_model = rfc.fit(train_X, train_y)\n",
    "rfc_preds = rfc.predict(val_X)\n",
    "precision_recall_fscore_support(rfc_preds, val_y, average='macro')"
   ]
  },
  {
   "cell_type": "code",
   "execution_count": null,
   "metadata": {},
   "outputs": [],
   "source": [
    "scores = cross_val_score(rfc_model, train_X, train_y, cv=5)\n",
    "sum = 0\n",
    "for i in scores:\n",
    "    sum += i\n",
    "avg = sum/5\n",
    "avg"
   ]
  },
  {
   "cell_type": "code",
   "execution_count": null,
   "metadata": {},
   "outputs": [],
   "source": [
    "abc_model = abc.fit(train_X, train_y)\n",
    "abc_preds = abc.predict(val_X)\n",
    "precision_recall_fscore_support(abc_preds, val_y, average='macro')"
   ]
  },
  {
   "cell_type": "code",
   "execution_count": null,
   "metadata": {},
   "outputs": [],
   "source": [
    "scores = cross_val_score(abc_model, train_X, train_y, cv=5)\n",
    "sum = 0\n",
    "for i in scores:\n",
    "    sum += i\n",
    "avg = sum/5\n",
    "avg"
   ]
  },
  {
   "cell_type": "code",
   "execution_count": null,
   "metadata": {},
   "outputs": [],
   "source": [
    "gnb_model = gnb.fit(train_X, train_y)\n",
    "gnb_preds = gnb.predict(val_X)\n",
    "precision_recall_fscore_support(gnb_preds, val_y, average='macro')"
   ]
  },
  {
   "cell_type": "code",
   "execution_count": null,
   "metadata": {},
   "outputs": [],
   "source": [
    "scores = cross_val_score(gnb_model, train_X, train_y, cv=5)\n",
    "sum = 0\n",
    "for i in scores:\n",
    "    sum += i\n",
    "avg = sum/5\n",
    "avg"
   ]
  },
  {
   "cell_type": "code",
   "execution_count": null,
   "metadata": {},
   "outputs": [],
   "source": [
    "%time dtc.fit(train_X, train_y)\n",
    "dtc_preds = dtc.predict(val_X)\n",
    "precision_recall_fscore_support(dtc_preds, val_y, average='macro')\n",
    "\n",
    "scores = cross_val_score(dtc_model, train_X, train_y, cv=5)\n",
    "sum = 0\n",
    "for i in scores:\n",
    "    sum += i\n",
    "avg = sum/5\n",
    "avg"
   ]
  },
  {
   "cell_type": "code",
   "execution_count": 19,
   "metadata": {},
   "outputs": [
    {
     "name": "stderr",
     "output_type": "stream",
     "text": [
      "C:\\Users\\ecusa\\anaconda3\\lib\\site-packages\\sklearn\\neural_network\\_multilayer_perceptron.py:571: ConvergenceWarning: Stochastic Optimizer: Maximum iterations (200) reached and the optimization hasn't converged yet.\n",
      "  % self.max_iter, ConvergenceWarning)\n"
     ]
    },
    {
     "ename": "NameError",
     "evalue": "name 'precision_recall_fscore_support' is not defined",
     "output_type": "error",
     "traceback": [
      "\u001b[1;31m---------------------------------------------------------------------------\u001b[0m",
      "\u001b[1;31mNameError\u001b[0m                                 Traceback (most recent call last)",
      "\u001b[1;32m<ipython-input-19-da8a46e782b8>\u001b[0m in \u001b[0;36m<module>\u001b[1;34m\u001b[0m\n\u001b[0;32m      1\u001b[0m \u001b[0mmlpc_model\u001b[0m \u001b[1;33m=\u001b[0m \u001b[0mmlpc\u001b[0m\u001b[1;33m.\u001b[0m\u001b[0mfit\u001b[0m\u001b[1;33m(\u001b[0m\u001b[0mtrain_X\u001b[0m\u001b[1;33m,\u001b[0m \u001b[0mtrain_y\u001b[0m\u001b[1;33m)\u001b[0m\u001b[1;33m\u001b[0m\u001b[1;33m\u001b[0m\u001b[0m\n\u001b[0;32m      2\u001b[0m \u001b[0mmlpc_preds\u001b[0m \u001b[1;33m=\u001b[0m \u001b[0mmlpc\u001b[0m\u001b[1;33m.\u001b[0m\u001b[0mpredict\u001b[0m\u001b[1;33m(\u001b[0m\u001b[0mval_X\u001b[0m\u001b[1;33m)\u001b[0m\u001b[1;33m\u001b[0m\u001b[1;33m\u001b[0m\u001b[0m\n\u001b[1;32m----> 3\u001b[1;33m \u001b[0mprecision_recall_fscore_support\u001b[0m\u001b[1;33m(\u001b[0m\u001b[0mmlpc_preds\u001b[0m\u001b[1;33m,\u001b[0m \u001b[0mval_y\u001b[0m\u001b[1;33m,\u001b[0m \u001b[0maverage\u001b[0m\u001b[1;33m=\u001b[0m\u001b[1;34m'macro'\u001b[0m\u001b[1;33m)\u001b[0m\u001b[1;33m\u001b[0m\u001b[1;33m\u001b[0m\u001b[0m\n\u001b[0m\u001b[0;32m      4\u001b[0m \u001b[1;33m\u001b[0m\u001b[0m\n\u001b[0;32m      5\u001b[0m \u001b[0mscores\u001b[0m \u001b[1;33m=\u001b[0m \u001b[0mcross_val_score\u001b[0m\u001b[1;33m(\u001b[0m\u001b[0mmlpc_model\u001b[0m\u001b[1;33m,\u001b[0m \u001b[0mtrain_X\u001b[0m\u001b[1;33m,\u001b[0m \u001b[0mtrain_y\u001b[0m\u001b[1;33m,\u001b[0m \u001b[0mcv\u001b[0m\u001b[1;33m=\u001b[0m\u001b[1;36m5\u001b[0m\u001b[1;33m)\u001b[0m\u001b[1;33m\u001b[0m\u001b[1;33m\u001b[0m\u001b[0m\n",
      "\u001b[1;31mNameError\u001b[0m: name 'precision_recall_fscore_support' is not defined"
     ]
    }
   ],
   "source": [
    "mlpc_model = mlpc.fit(train_X, train_y)\n",
    "mlpc_preds = mlpc.predict(val_X)\n"
   ]
  },
  {
   "cell_type": "code",
   "execution_count": 23,
   "metadata": {},
   "outputs": [
    {
     "name": "stderr",
     "output_type": "stream",
     "text": [
      "C:\\Users\\ecusa\\anaconda3\\lib\\site-packages\\sklearn\\neural_network\\_multilayer_perceptron.py:571: ConvergenceWarning: Stochastic Optimizer: Maximum iterations (200) reached and the optimization hasn't converged yet.\n",
      "  % self.max_iter, ConvergenceWarning)\n",
      "C:\\Users\\ecusa\\anaconda3\\lib\\site-packages\\sklearn\\neural_network\\_multilayer_perceptron.py:571: ConvergenceWarning: Stochastic Optimizer: Maximum iterations (200) reached and the optimization hasn't converged yet.\n",
      "  % self.max_iter, ConvergenceWarning)\n",
      "C:\\Users\\ecusa\\anaconda3\\lib\\site-packages\\sklearn\\neural_network\\_multilayer_perceptron.py:571: ConvergenceWarning: Stochastic Optimizer: Maximum iterations (200) reached and the optimization hasn't converged yet.\n",
      "  % self.max_iter, ConvergenceWarning)\n"
     ]
    },
    {
     "data": {
      "text/plain": [
       "0.999092414844909"
      ]
     },
     "execution_count": 23,
     "metadata": {},
     "output_type": "execute_result"
    }
   ],
   "source": [
    "precision_recall_fscore_support(mlpc_preds, val_y, average='macro')\n",
    "\n",
    "scores = cross_val_score(mlpc_model, train_X, train_y, cv=5)\n",
    "sum = 0\n",
    "for i in scores:\n",
    "    sum += i\n",
    "avg = sum/5\n",
    "avg"
   ]
  },
  {
   "cell_type": "code",
   "execution_count": null,
   "metadata": {},
   "outputs": [],
   "source": [
    "importances_abc"
   ]
  },
  {
   "cell_type": "code",
   "execution_count": null,
   "metadata": {},
   "outputs": [],
   "source": [
    "importances_abc.head(15)"
   ]
  },
  {
   "cell_type": "code",
   "execution_count": 24,
   "metadata": {},
   "outputs": [],
   "source": [
    "abc_features = [' Source Port', ' Destination Port', 'Init_Win_bytes_forward', 'Fwd Packets/s', 'Unnamed: 0', \n",
    "                ' Average Packet Size', ' Fwd Header Length', 'Unnamed: 0.1', ' Min Packet Length', ' Flow IAT Min',\n",
    "                 ' Bwd IAT Mean', ' Bwd IAT Min', ' SYN Flag Count', ' Packet Length Mean', ' Flow IAT Mean']"
   ]
  },
  {
   "cell_type": "code",
   "execution_count": 25,
   "metadata": {},
   "outputs": [],
   "source": [
    "X = df[abc_features]\n",
    "y = df['DataType']\n",
    "\n",
    "train_X, val_X, train_y, val_y = train_test_split(X, y, test_size=0.20, random_state=1)"
   ]
  },
  {
   "cell_type": "code",
   "execution_count": 26,
   "metadata": {},
   "outputs": [],
   "source": [
    "from sklearn.metrics import precision_recall_fscore_support"
   ]
  },
  {
   "cell_type": "code",
   "execution_count": null,
   "metadata": {},
   "outputs": [],
   "source": [
    "rfc_model = rfc.fit(train_X, train_y)\n",
    "rfc_preds = rfc.predict(val_X)\n",
    "precision_recall_fscore_support(rfc_preds, val_y, average='macro')"
   ]
  },
  {
   "cell_type": "code",
   "execution_count": null,
   "metadata": {},
   "outputs": [],
   "source": [
    "scores = cross_val_score(rfc_model, train_X, train_y, cv=5)\n",
    "sum = 0\n",
    "for i in scores:\n",
    "    sum += i\n",
    "avg = sum/5\n",
    "avg"
   ]
  },
  {
   "cell_type": "code",
   "execution_count": null,
   "metadata": {},
   "outputs": [],
   "source": [
    "abc_model = abc.fit(train_X, train_y)\n",
    "abc_preds = abc.predict(val_X)\n",
    "precision_recall_fscore_support(abc_preds, val_y, average='macro')"
   ]
  },
  {
   "cell_type": "code",
   "execution_count": null,
   "metadata": {},
   "outputs": [],
   "source": [
    "scores = cross_val_score(abc_model, train_X, train_y, cv=5)\n",
    "sum = 0\n",
    "for i in scores:\n",
    "    sum += i\n",
    "avg = sum/5\n",
    "avg"
   ]
  },
  {
   "cell_type": "code",
   "execution_count": null,
   "metadata": {},
   "outputs": [],
   "source": [
    "gnb_model = gnb.fit(train_X, train_y)\n",
    "gnb_preds = gnb.predict(val_X)\n",
    "precision_recall_fscore_support(gnb_preds, val_y, average='macro')"
   ]
  },
  {
   "cell_type": "code",
   "execution_count": null,
   "metadata": {},
   "outputs": [],
   "source": [
    "scores = cross_val_score(gnb_model, train_X, train_y, cv=5)\n",
    "sum = 0\n",
    "for i in scores:\n",
    "    sum += i\n",
    "avg = sum/5\n",
    "avg"
   ]
  },
  {
   "cell_type": "code",
   "execution_count": null,
   "metadata": {},
   "outputs": [],
   "source": [
    "dtc_model = dtc.fit(train_X, train_y)\n",
    "dtc_preds = dtc.predict(val_X)\n",
    "precision_recall_fscore_support(dtc_preds, val_y, average='macro')"
   ]
  },
  {
   "cell_type": "code",
   "execution_count": null,
   "metadata": {},
   "outputs": [],
   "source": [
    "scores = cross_val_score(dtc_model, train_X, train_y, cv=5)\n",
    "sum = 0\n",
    "for i in scores:\n",
    "    sum += i\n",
    "avg = sum/5\n",
    "avg"
   ]
  },
  {
   "cell_type": "code",
   "execution_count": 27,
   "metadata": {},
   "outputs": [
    {
     "name": "stderr",
     "output_type": "stream",
     "text": [
      "C:\\Users\\ecusa\\anaconda3\\lib\\site-packages\\sklearn\\metrics\\_classification.py:1272: UndefinedMetricWarning: Recall and F-score are ill-defined and being set to 0.0 in labels with no true samples. Use `zero_division` parameter to control this behavior.\n",
      "  _warn_prf(average, modifier, msg_start, len(result))\n",
      "C:\\Users\\ecusa\\anaconda3\\lib\\site-packages\\sklearn\\neural_network\\_multilayer_perceptron.py:571: ConvergenceWarning: Stochastic Optimizer: Maximum iterations (200) reached and the optimization hasn't converged yet.\n",
      "  % self.max_iter, ConvergenceWarning)\n",
      "C:\\Users\\ecusa\\anaconda3\\lib\\site-packages\\sklearn\\neural_network\\_multilayer_perceptron.py:571: ConvergenceWarning: Stochastic Optimizer: Maximum iterations (200) reached and the optimization hasn't converged yet.\n",
      "  % self.max_iter, ConvergenceWarning)\n"
     ]
    },
    {
     "data": {
      "text/plain": [
       "0.9971813738185654"
      ]
     },
     "execution_count": 27,
     "metadata": {},
     "output_type": "execute_result"
    }
   ],
   "source": [
    "mlpc_model = mlpc.fit(train_X, train_y)\n",
    "mlpc_preds = mlpc.predict(val_X)\n",
    "precision_recall_fscore_support(mlpc_preds, val_y, average='macro')\n",
    "\n",
    "scores = cross_val_score(mlpc_model, train_X, train_y, cv=5)\n",
    "sum = 0\n",
    "for i in scores:\n",
    "    sum += i\n",
    "avg = sum/5\n",
    "avg"
   ]
  },
  {
   "cell_type": "code",
   "execution_count": null,
   "metadata": {},
   "outputs": [],
   "source": []
  },
  {
   "cell_type": "code",
   "execution_count": null,
   "metadata": {},
   "outputs": [],
   "source": [
    "importances_dtc.head(19)"
   ]
  },
  {
   "cell_type": "code",
   "execution_count": null,
   "metadata": {},
   "outputs": [],
   "source": [
    "df[' RST Flag Count'].describe()"
   ]
  },
  {
   "cell_type": "code",
   "execution_count": 28,
   "metadata": {},
   "outputs": [],
   "source": [
    "dtc_features = [' Inbound', ' Source Port', ' Destination Port', ' ACK Flag Count', ' act_data_pkt_fwd',\n",
    "               ' Max Packet Length', ' Subflow Bwd Packets', ' min_seg_size_forward', ' RST Flag Count',\n",
    "                ' SYN Flag Count', ' URG Flag Count',' CWE Flag Count', ' URG Flag Count', ' Idle Max',\n",
    "               ' RST Flag Count']"
   ]
  },
  {
   "cell_type": "code",
   "execution_count": 29,
   "metadata": {},
   "outputs": [],
   "source": [
    "X = df[dtc_features]\n",
    "y = df['DataType']\n",
    "\n",
    "train_X, val_X, train_y, val_y = train_test_split(X, y, test_size=0.20, random_state=1)"
   ]
  },
  {
   "cell_type": "code",
   "execution_count": null,
   "metadata": {},
   "outputs": [],
   "source": [
    "rfc_model = rfc.fit(train_X, train_y)\n",
    "rfc_preds = rfc.predict(val_X)\n"
   ]
  },
  {
   "cell_type": "code",
   "execution_count": null,
   "metadata": {},
   "outputs": [],
   "source": [
    "precision_recall_fscore_support(rfc_preds, val_y, average='macro')"
   ]
  },
  {
   "cell_type": "code",
   "execution_count": null,
   "metadata": {},
   "outputs": [],
   "source": [
    "scores = cross_val_score(rfc_model, train_X, train_y, cv=5)\n",
    "sum = 0\n",
    "for i in scores:\n",
    "    sum += i\n",
    "avg = sum/5\n",
    "avg"
   ]
  },
  {
   "cell_type": "code",
   "execution_count": null,
   "metadata": {},
   "outputs": [],
   "source": [
    "abc_model = abc.fit(train_X, train_y)\n",
    "abc_preds = abc.predict(val_X)\n",
    "precision_recall_fscore_support(abc_preds, val_y, average='macro')"
   ]
  },
  {
   "cell_type": "code",
   "execution_count": null,
   "metadata": {},
   "outputs": [],
   "source": [
    "scores = cross_val_score(abc_model, train_X, train_y, cv=5)\n",
    "sum = 0\n",
    "for i in scores:\n",
    "    sum += i\n",
    "avg = sum/5\n",
    "avg"
   ]
  },
  {
   "cell_type": "code",
   "execution_count": null,
   "metadata": {},
   "outputs": [],
   "source": [
    "gnb_model = gnb.fit(train_X, train_y)\n",
    "gnb_preds = gnb.predict(val_X)\n",
    "precision_recall_fscore_support(gnb_preds, val_y, average='macro')"
   ]
  },
  {
   "cell_type": "code",
   "execution_count": null,
   "metadata": {},
   "outputs": [],
   "source": [
    "scores = cross_val_score(gnb_model, train_X, train_y, cv=5)\n",
    "sum = 0\n",
    "for i in scores:\n",
    "    sum += i\n",
    "avg = sum/5\n",
    "avg"
   ]
  },
  {
   "cell_type": "code",
   "execution_count": null,
   "metadata": {},
   "outputs": [],
   "source": [
    "dtc_model = dtc.fit(train_X, train_y)\n",
    "dtc_preds = dtc.predict(val_X)\n",
    "precision_recall_fscore_support(dtc_preds, val_y, average='macro')"
   ]
  },
  {
   "cell_type": "code",
   "execution_count": null,
   "metadata": {},
   "outputs": [],
   "source": [
    "scores = cross_val_score(dtc_model, train_X, train_y, cv=5)\n",
    "sum = 0\n",
    "for i in scores:\n",
    "    sum += i\n",
    "avg = sum/5\n",
    "avg"
   ]
  },
  {
   "cell_type": "code",
   "execution_count": 30,
   "metadata": {},
   "outputs": [
    {
     "name": "stderr",
     "output_type": "stream",
     "text": [
      "C:\\Users\\ecusa\\anaconda3\\lib\\site-packages\\sklearn\\neural_network\\_multilayer_perceptron.py:571: ConvergenceWarning: Stochastic Optimizer: Maximum iterations (200) reached and the optimization hasn't converged yet.\n",
      "  % self.max_iter, ConvergenceWarning)\n",
      "C:\\Users\\ecusa\\anaconda3\\lib\\site-packages\\sklearn\\neural_network\\_multilayer_perceptron.py:571: ConvergenceWarning: Stochastic Optimizer: Maximum iterations (200) reached and the optimization hasn't converged yet.\n",
      "  % self.max_iter, ConvergenceWarning)\n",
      "C:\\Users\\ecusa\\anaconda3\\lib\\site-packages\\sklearn\\neural_network\\_multilayer_perceptron.py:571: ConvergenceWarning: Stochastic Optimizer: Maximum iterations (200) reached and the optimization hasn't converged yet.\n",
      "  % self.max_iter, ConvergenceWarning)\n",
      "C:\\Users\\ecusa\\anaconda3\\lib\\site-packages\\sklearn\\neural_network\\_multilayer_perceptron.py:571: ConvergenceWarning: Stochastic Optimizer: Maximum iterations (200) reached and the optimization hasn't converged yet.\n",
      "  % self.max_iter, ConvergenceWarning)\n",
      "C:\\Users\\ecusa\\anaconda3\\lib\\site-packages\\sklearn\\neural_network\\_multilayer_perceptron.py:571: ConvergenceWarning: Stochastic Optimizer: Maximum iterations (200) reached and the optimization hasn't converged yet.\n",
      "  % self.max_iter, ConvergenceWarning)\n"
     ]
    },
    {
     "data": {
      "text/plain": [
       "0.9974472576405997"
      ]
     },
     "execution_count": 30,
     "metadata": {},
     "output_type": "execute_result"
    }
   ],
   "source": [
    "mlpc_model = mlpc.fit(train_X, train_y)\n",
    "mlpc_preds = mlpc.predict(val_X)\n",
    "precision_recall_fscore_support(mlpc_preds, val_y, average='macro')\n",
    "\n",
    "scores = cross_val_score(mlpc_model, train_X, train_y, cv=5)\n",
    "sum = 0\n",
    "for i in scores:\n",
    "    sum += i\n",
    "avg = sum/5\n",
    "avg"
   ]
  },
  {
   "cell_type": "code",
   "execution_count": null,
   "metadata": {},
   "outputs": [],
   "source": [
    "import matplotlib\n",
    "import matplotlib.pyplot as plt"
   ]
  },
  {
   "cell_type": "code",
   "execution_count": null,
   "metadata": {},
   "outputs": [],
   "source": [
    "import seaborn as sn"
   ]
  },
  {
   "cell_type": "code",
   "execution_count": null,
   "metadata": {},
   "outputs": [],
   "source": [
    "avg_precision = [0.987470821895, 0.96237849568118, 0.61646131725208, 0.98542100062365, 0.62610638634205]"
   ]
  },
  {
   "cell_type": "code",
   "execution_count": null,
   "metadata": {},
   "outputs": [],
   "source": [
    "models = ['RFC', 'ABC', 'GNB', 'DTC', 'MLPC']"
   ]
  },
  {
   "cell_type": "code",
   "execution_count": null,
   "metadata": {},
   "outputs": [],
   "source": [
    "avg_recall = [0.9975335113291, 0.9786437440428, 0.61973384679268, 0.99726665082298, 0.97051494391608]"
   ]
  },
  {
   "cell_type": "code",
   "execution_count": null,
   "metadata": {},
   "outputs": [],
   "source": [
    "import numpy as np\n",
    "data = [avg_precision, avg_recall]\n",
    "X = np.arange(5)\n",
    "fig = plt.figure()\n",
    "ax = fig.add_axes([0,0,1,1])\n",
    "ax.bar(X - 0.125, data[0], color = 'b', width = 0.25, label = 'Precision')\n",
    "ax.bar(X + 0.125, data[1], color = 'g', width = 0.25, label = 'Recall')\n",
    "#ax.bar(X + 0.25, data[2], color = 'r', width = 0.25, label = 'Time used to fit model')\n",
    "models = ['none', 'RFC', 'ABC', 'GNB', 'DTC', 'MLPC']\n",
    "#legend('Precision', 'Recall', 'Time')\n",
    "ax.set_xticklabels(models)\n",
    "leg = ax.legend()\n",
    "plt.xlabel('Model')\n",
    "plt.title('Average Precision and Recall for Each Model over Four Feature Sets')\n",
    "#plt.yscale('log')\n"
   ]
  },
  {
   "cell_type": "code",
   "execution_count": null,
   "metadata": {},
   "outputs": [],
   "source": [
    "avg_time = [103.5, 71.875, 0.81425, 3.73, 1766.25]"
   ]
  },
  {
   "cell_type": "code",
   "execution_count": null,
   "metadata": {},
   "outputs": [],
   "source": [
    "import numpy as np\n",
    "data = [avg_time]\n",
    "X = np.arange(5)\n",
    "fig = plt.figure()\n",
    "ax = fig.add_axes([0,0,1,1])\n",
    "#ax.bar(X - 0.25, data[0], color = 'b', width = 0.25, label = 'Precision')\n",
    "#ax.bar(X, data[1], color = 'g', width = 0.25, label = 'Recall')\n",
    "ax.bar(X, data[0], color = 'r', width = 0.25, label = 'Time used to fit model')\n",
    "models = ['none', 'RFC', 'ABC', 'GNB', 'DTC', 'MLPC']\n",
    "#legend('Precision', 'Recall', 'Time')\n",
    "ax.set_xticklabels(models)\n",
    "leg = ax.legend()\n",
    "plt.title('Average Time used to Fit Each Model over Four Feature Sets in Seconds')\n",
    "plt.rcParams['figure.figsize'] = (6, 4)\n",
    "plt.ylim(0, 200)\n",
    "plt.ylabel('Seconds')\n",
    "plt.xlabel('Model')\n",
    "#plt.yscale('log')\n"
   ]
  },
  {
   "cell_type": "code",
   "execution_count": 31,
   "metadata": {},
   "outputs": [],
   "source": [
    "paper_features = [' Flow Duration', 'Total Length of Fwd Packets', ' Total Length of Bwd Packets',\n",
    "                 ' Fwd Packet Length Mean', ' Bwd Packet Length Min', 'Flow Bytes/s', ' Flow Packets/s',\n",
    "                 ' Flow IAT Mean', ' Bwd Packets/s', ' Average Packet Size', ' Active Std', ' Active Max',\n",
    "                 ' Active Min']"
   ]
  },
  {
   "cell_type": "code",
   "execution_count": 32,
   "metadata": {},
   "outputs": [],
   "source": [
    "X = df[paper_features]\n",
    "y = df['DataType']\n",
    "\n",
    "train_X, val_X, train_y, val_y = train_test_split(X, y, test_size=0.20, random_state=1)"
   ]
  },
  {
   "cell_type": "code",
   "execution_count": null,
   "metadata": {},
   "outputs": [],
   "source": [
    "rfc_model = rfc.fit(train_X, train_y)\n",
    "rfc_preds = rfc.predict(val_X)\n",
    "precision_recall_fscore_support(rfc_preds, val_y, average='macro')"
   ]
  },
  {
   "cell_type": "code",
   "execution_count": null,
   "metadata": {},
   "outputs": [],
   "source": [
    "scores = cross_val_score(rfc_model, train_X, train_y, cv=5)\n",
    "sum = 0\n",
    "for i in scores:\n",
    "    sum += i\n",
    "avg = sum/5\n",
    "avg"
   ]
  },
  {
   "cell_type": "code",
   "execution_count": null,
   "metadata": {},
   "outputs": [],
   "source": [
    "abc_model = abc.fit(train_X, train_y)\n",
    "abc_preds = abc.predict(val_X)\n",
    "precision_recall_fscore_support(abc_preds, val_y, average='macro')"
   ]
  },
  {
   "cell_type": "code",
   "execution_count": null,
   "metadata": {},
   "outputs": [],
   "source": [
    "scores = cross_val_score(abc_model, train_X, train_y, cv=5)\n",
    "sum = 0\n",
    "for i in scores:\n",
    "    sum += i\n",
    "avg = sum/5\n",
    "avg"
   ]
  },
  {
   "cell_type": "code",
   "execution_count": null,
   "metadata": {},
   "outputs": [],
   "source": [
    "gnb_model = gnb.fit(train_X, train_y)\n",
    "gnb_preds = gnb.predict(val_X)\n",
    "precision_recall_fscore_support(gnb_preds, val_y, average='macro')"
   ]
  },
  {
   "cell_type": "code",
   "execution_count": null,
   "metadata": {},
   "outputs": [],
   "source": [
    "scores = cross_val_score(gnb_model, train_X, train_y, cv=5)\n",
    "sum = 0\n",
    "for i in scores:\n",
    "    sum += i\n",
    "avg = sum/5\n",
    "avg"
   ]
  },
  {
   "cell_type": "code",
   "execution_count": null,
   "metadata": {},
   "outputs": [],
   "source": [
    "dtc_model = dtc.fit(train_X, train_y)\n",
    "dtc_preds = dtc.predict(val_X)\n",
    "precision_recall_fscore_support(dtc_preds, val_y, average='macro')"
   ]
  },
  {
   "cell_type": "code",
   "execution_count": null,
   "metadata": {},
   "outputs": [],
   "source": [
    "scores = cross_val_score(dtc_model, train_X, train_y, cv=5)\n",
    "sum = 0\n",
    "for i in scores:\n",
    "    sum += i\n",
    "avg = sum/5\n",
    "avg"
   ]
  },
  {
   "cell_type": "code",
   "execution_count": 33,
   "metadata": {},
   "outputs": [
    {
     "name": "stderr",
     "output_type": "stream",
     "text": [
      "C:\\Users\\ecusa\\anaconda3\\lib\\site-packages\\sklearn\\neural_network\\_multilayer_perceptron.py:571: ConvergenceWarning: Stochastic Optimizer: Maximum iterations (200) reached and the optimization hasn't converged yet.\n",
      "  % self.max_iter, ConvergenceWarning)\n",
      "C:\\Users\\ecusa\\anaconda3\\lib\\site-packages\\sklearn\\neural_network\\_multilayer_perceptron.py:571: ConvergenceWarning: Stochastic Optimizer: Maximum iterations (200) reached and the optimization hasn't converged yet.\n",
      "  % self.max_iter, ConvergenceWarning)\n",
      "C:\\Users\\ecusa\\anaconda3\\lib\\site-packages\\sklearn\\neural_network\\_multilayer_perceptron.py:571: ConvergenceWarning: Stochastic Optimizer: Maximum iterations (200) reached and the optimization hasn't converged yet.\n",
      "  % self.max_iter, ConvergenceWarning)\n",
      "C:\\Users\\ecusa\\anaconda3\\lib\\site-packages\\sklearn\\neural_network\\_multilayer_perceptron.py:571: ConvergenceWarning: Stochastic Optimizer: Maximum iterations (200) reached and the optimization hasn't converged yet.\n",
      "  % self.max_iter, ConvergenceWarning)\n",
      "C:\\Users\\ecusa\\anaconda3\\lib\\site-packages\\sklearn\\neural_network\\_multilayer_perceptron.py:571: ConvergenceWarning: Stochastic Optimizer: Maximum iterations (200) reached and the optimization hasn't converged yet.\n",
      "  % self.max_iter, ConvergenceWarning)\n",
      "C:\\Users\\ecusa\\anaconda3\\lib\\site-packages\\sklearn\\neural_network\\_multilayer_perceptron.py:571: ConvergenceWarning: Stochastic Optimizer: Maximum iterations (200) reached and the optimization hasn't converged yet.\n",
      "  % self.max_iter, ConvergenceWarning)\n"
     ]
    },
    {
     "data": {
      "text/plain": [
       "0.9986437356526767"
      ]
     },
     "execution_count": 33,
     "metadata": {},
     "output_type": "execute_result"
    }
   ],
   "source": [
    "mlpc_model = mlpc.fit(train_X, train_y)\n",
    "mlpc_preds = mlpc.predict(val_X)\n",
    "precision_recall_fscore_support(mlpc_preds, val_y, average='macro')\n",
    "\n",
    "scores = cross_val_score(mlpc_model, train_X, train_y, cv=5)\n",
    "sum = 0\n",
    "for i in scores:\n",
    "    sum += i\n",
    "avg = sum/5\n",
    "avg"
   ]
  },
  {
   "cell_type": "code",
   "execution_count": 34,
   "metadata": {},
   "outputs": [
    {
     "data": {
      "text/plain": [
       "(0.7831832918529664, 0.9649593560267296, 0.8518739923488119, None)"
      ]
     },
     "execution_count": 34,
     "metadata": {},
     "output_type": "execute_result"
    }
   ],
   "source": [
    "precision_recall_fscore_support(mlpc_preds, val_y, average='macro')"
   ]
  },
  {
   "cell_type": "code",
   "execution_count": 20,
   "metadata": {},
   "outputs": [],
   "source": [
    "from sklearn.metrics import precision_recall_fscore_support"
   ]
  },
  {
   "cell_type": "code",
   "execution_count": 22,
   "metadata": {},
   "outputs": [],
   "source": [
    "from sklearn.model_selection import cross_val_score, cross_val_predict\n",
    "from sklearn import metrics"
   ]
  },
  {
   "cell_type": "code",
   "execution_count": 35,
   "metadata": {},
   "outputs": [
    {
     "data": {
      "text/plain": [
       "array([0.99881759, 0.99845327, 0.99885593, 0.99873449, 0.9983574 ])"
      ]
     },
     "execution_count": 35,
     "metadata": {},
     "output_type": "execute_result"
    }
   ],
   "source": [
    "scores"
   ]
  },
  {
   "cell_type": "code",
   "execution_count": null,
   "metadata": {},
   "outputs": [],
   "source": []
  }
 ],
 "metadata": {
  "kernelspec": {
   "display_name": "Python 3 (ipykernel)",
   "language": "python",
   "name": "python3"
  },
  "language_info": {
   "codemirror_mode": {
    "name": "ipython",
    "version": 3
   },
   "file_extension": ".py",
   "mimetype": "text/x-python",
   "name": "python",
   "nbconvert_exporter": "python",
   "pygments_lexer": "ipython3",
   "version": "3.9.13"
  }
 },
 "nbformat": 4,
 "nbformat_minor": 4
}
